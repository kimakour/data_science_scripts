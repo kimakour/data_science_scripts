{
  "nbformat": 4,
  "nbformat_minor": 0,
  "metadata": {
    "colab": {
      "name": "Reg_models.ipynb",
      "provenance": [],
      "toc_visible": true
    },
    "kernelspec": {
      "name": "python3",
      "display_name": "Python 3"
    }
  },
  "cells": [
    {
      "cell_type": "markdown",
      "metadata": {
        "id": "xlwCc3Z-6Vfq"
      },
      "source": [
        "## **Regression Models**\n",
        "\n",
        "---\n",
        "\n"
      ]
    },
    {
      "cell_type": "markdown",
      "metadata": {
        "id": "iWkkS_QqBEiv"
      },
      "source": [
        "Using the insights from our data analysis:\n",
        "- we've decided to choose MAE metric for our models based on the fact that our data is skewed.\n",
        "- We've also tested outlier removal\n",
        "- We split the dataset into a train and test split using stratification(80%,20%).\n",
        "- We did cross-validation on the training set to have an idea on the best models.\n",
        "- We made predictions on the test set.\n",
        "- We also did a custom neural network and evaluated our training set on it.\n",
        "- Our best model is Random Forest\n"
      ]
    },
    {
      "cell_type": "markdown",
      "metadata": {
        "id": "uBGf1-OO74Dr"
      },
      "source": [
        "#Imports"
      ]
    },
    {
      "cell_type": "code",
      "metadata": {
        "id": "mL4Rm--X6RjX"
      },
      "source": [
        "from sklearn.model_selection import StratifiedKFold\n",
        "from tqdm import tqdm\n",
        "import time\n",
        "import numpy as np\n",
        "import scipy as sp\n",
        "import keras\n",
        "import warnings\n",
        "warnings.filterwarnings('ignore')\n",
        "import numpy as np\n",
        "import matplotlib.pyplot as plt\n",
        "from matplotlib import cm\n",
        "import seaborn as sns\n",
        "import pandas as pd\n",
        "from sklearn.cluster import DBSCAN\n",
        "from sklearn.linear_model import LinearRegression, Ridge,ElasticNet,Lasso\n",
        "from sklearn.svm import SVR\n",
        "from sklearn.tree import DecisionTreeRegressor\n",
        "from sklearn.neighbors import KNeighborsRegressor\n",
        "\n",
        "from sklearn.ensemble import RandomForestRegressor, GradientBoostingRegressor\n",
        "from xgboost import XGBRegressor\n",
        "from lightgbm import LGBMRegressor\n",
        "import xgboost as xgb\n",
        "import lightgbm as lgb\n",
        "from sklearn.feature_selection import variance_threshold, univariate_selection\n",
        "from sklearn.model_selection import train_test_split, KFold, cross_val_score, GridSearchCV, StratifiedKFold\n",
        "from sklearn.preprocessing import StandardScaler, LabelEncoder, RobustScaler,PowerTransformer,OneHotEncoder\n",
        "from sklearn.compose import make_column_transformer, TransformedTargetRegressor\n",
        "from sklearn.kernel_ridge import KernelRidge\n",
        "from sklearn.metrics import (\n",
        "    confusion_matrix,\n",
        "    mean_absolute_error,\n",
        "    classification_report,\n",
        "    f1_score,\n",
        "    roc_curve,\n",
        "    fbeta_score,\n",
        "    make_scorer\n",
        ")\n",
        "\n",
        "from scipy.stats import norm, skew, zscore\n",
        "from scipy.special import boxcox1p\n",
        "\n",
        "from sklearn.decomposition import PCA, NMF\n",
        "from sklearn.feature_selection import SelectKBest\n",
        "from sklearn.feature_selection import f_regression, mutual_info_regression\n",
        "from keras.models import Sequential\n",
        "from keras.layers import Dense\n",
        "from keras.wrappers.scikit_learn import KerasRegressor"
      ],
      "execution_count": 1,
      "outputs": []
    },
    {
      "cell_type": "markdown",
      "metadata": {
        "id": "X_fGw-Yk77HV"
      },
      "source": [
        "#Functions"
      ]
    },
    {
      "cell_type": "code",
      "metadata": {
        "id": "D1FkzaOa6xA8"
      },
      "source": [
        "def load_format_dataset(path='challenge_youtube_toxic.csv'):\n",
        "    df = pd.read_csv(path,encoding='iso-8859-1',  delimiter=\";\",error_bad_lines=False )\n",
        "    df = df.drop(['Unnamed: 27'],1)\n",
        "    for i in df.columns:\n",
        "        if (i.startswith('nbr') & (df[i].dtype=='O')):\n",
        "            df[i] = df[i].apply(lambda x: float(x.replace(',','.')))\n",
        "\n",
        "    #Check some logical properties: NbreMot>nbrMot_\n",
        "    l = [col for col in df.columns if (col.startswith('nbrMot') and (df.nbrMot > df[col]).any())  ]\n",
        "    #print(l)\n",
        "\n",
        "    #Drop rows\n",
        "    for col in l:\n",
        "        df = df[df.nbrMot > df[col] ]\n",
        "\n",
        "    df.reset_index(inplace=True,drop=True )\n",
        "    return df.drop(['video_id_court', 'video_id','channel_id'],1)\n",
        "\n",
        "def feature_engineering(df, target='target'):\n",
        "    \n",
        "    #weighted average of Number of insults *per channel* for train set \n",
        "    insults_per_channel = df['channel_name'].map(df.groupby('channel_name')[target].sum())\n",
        "    samples_per_channel = df['channel_name'].map(df.groupby('channel_name')[target].count())\n",
        "    df['reputation_channel'] = insults_per_channel/samples_per_channel\n",
        "    df['viewer_interaction_video'] = df['message_count']/df['viewCount']\n",
        "    df['viewCount_channel'] = df['channel_name'].map(df.groupby('channel_name')['viewCount'].sum())\n",
        "    df['message_count_channel'] = df['channel_name'].map(df.groupby('channel_name')['message_count'].sum())\n",
        "    df['viewer_interaction_channel'] = df['message_count_channel']/df['viewCount_channel']\n",
        "    df['viewCount_channel_vs_subscribers'] = df['subscriberCount']/df['viewCount_channel']\n",
        "    #Supposing number of subscribers always goes up over time\n",
        "    #Let's study the effect of viewer behaviour over target\n",
        "    df['insult_increase_time_coef_channel'] = df['channel_name'].map(df.groupby('channel_name')['subscriberCount'].sum())\n",
        "\n",
        "    df['nbrQuestMark_channel'] = df['channel_name'].map(df.groupby('channel_name')['nbrQuestMark'].sum())\n",
        "    df['nbrExclMark_channel'] = df['channel_name'].map(df.groupby('channel_name')['nbrExclMark'].sum())\n",
        "    df['nbrMotAllong_channel'] = df['channel_name'].map(df.groupby('channel_name')['nbrMotAllong'].sum())\n",
        "\n",
        "                                   \n",
        "    df['MAJ_>_quantile_channel'] = df['nbrQuestMark_channel'] > df['nbrQuestMark_channel'].quantile(.75)\n",
        "    df['!_>_quantile_channel'] = df['nbrExclMark_channel'] > df['nbrExclMark_channel'].quantile(.75)\n",
        "    df['allong_>_quantile_channel'] = df['nbrMotAllong_channel'] > df['nbrMotAllong_channel'].quantile(.75)\n",
        "    \n",
        "    df['MAJ_<_quantile_channel'] = df['nbrQuestMark'] < df['nbrQuestMark'].quantile(.25)\n",
        "    df['!_<_quantile_channel'] = df['nbrExclMark_channel'] < df['nbrExclMark_channel'].quantile(.25)\n",
        "    df['allong_<_quantile_channel'] = df['nbrMotAllong_channel'] < df['nbrMotAllong_channel'].quantile(.25)\n",
        "    \n",
        "    return df\n",
        "\n",
        "def crossvalidation_mixed_data(df):\n",
        "    pipelines = []\n",
        "    pipelines.append((\"ScaledLR\",Pipeline([(\"Scaler\", StandardScaler()), (\"LR\", LinearRegression())])))\n",
        "    pipelines.append((\"ScaledRG\",Pipeline([(\"Scaler\", StandardScaler()), (\"RG\", Ridge())])))\n",
        "    pipelines.append((\"ScaledKNN\",Pipeline([(\"Scaler\", StandardScaler()), (\"KNN\", KNeighborsRegressor())])))\n",
        "    pipelines.append((\"ScaledLasso\",Pipeline([(\"Scaler\", StandardScaler()), (\"LS\", Lasso())])))\n",
        "    pipelines.append((\"ScaledEN\",Pipeline([(\"Scaler\", StandardScaler()), (\"EN\",ElasticNet())])))\n",
        "    pipelines.append((\"ScaledSVR\",Pipeline([(\"Scaler\", StandardScaler()), (\"SVR\", SVR(kernel=\"linear\"))])))\n",
        "    pipelines.append((\"GBM\", GradientBoostingRegressor()))\n",
        "    pipelines.append((\"XGB\", XGBRegressor()))\n",
        "    pipelines.append((\"RF\", RandomForestRegressor()))\n",
        "    pipelines.append((\"LGBM\", LGBMRegressor()))\n",
        "    results = []\n",
        "    names = []\n",
        "\n",
        "    for name, model in tqdm(pipelines):\n",
        "        cv_results = []\n",
        "        kfold = KFold(n_splits=5, random_state=21)\n",
        "        for train_index, test_index in kfold.split(df):\n",
        "            model.fit(df.iloc[train_index, :-1], df.iloc[train_index, -1])\n",
        "            cv_results.append(\n",
        "                mean_absolute_error(\n",
        "                    df.iloc[test_index, -1],\n",
        "                    model.predict(df.iloc[test_index, :-1]),\n",
        "                )\n",
        "            )\n",
        "\n",
        "        results.append(cv_results)\n",
        "        names.append(name)\n",
        "    plt.figure()\n",
        "    plt.boxplot(results, labels=names)\n",
        "    plt.xticks(rotation=25)\n",
        "    plt.title('mean absolute error for baseline model')\n",
        "    plt.show()\n",
        "    return names, results\n",
        "\n",
        "#No regularisation ==> Leakage\n",
        "def mean_encoding(df_train, df_test, target='nomMotInsulte'):\n",
        "    for name_categorical_column in df_train.dtypes[df_train.dtypes=='object'].index.tolist():\n",
        "        means = df_train.groupby(name_categorical_column).target.mean()\n",
        "        Mean_encoded_dict = means.to_dict()\n",
        "        df_train[name_categorical_column] =  df_train[name_categorical_column].map(Mean_encoded_dict)\n",
        "        df_test[name_categorical_column] =  df_test[name_categorical_column].map(Mean_encoded_dict)\n",
        "        #in case test set contains categories not found in train set\n",
        "        df_test[name_categorical_column].fillna(means.mean(), inplace = True)\n",
        "\n",
        "    return df_train, df_test\n",
        "\n",
        "#From Kaggle\n",
        "def encode_target_smooth(data, target, categ_variables, smooth):\n",
        "    \"\"\"\n",
        "    Apply target encoding with smoothing.\n",
        "\n",
        "    Parameters\n",
        "    ----------\n",
        "    data: pd.DataFrame\n",
        "    target: str, dependent variable\n",
        "    categ_variables: list of str, variables to encode\n",
        "    smooth: int, number of observations to weigh global average with\n",
        "\n",
        "    Returns\n",
        "    --------\n",
        "    encoded_dataset: pd.DataFrame\n",
        "    code_map: dict, mapping to be used on validation/test datasets\n",
        "    defaul_map: dict, mapping to replace previously unseen values with\n",
        "    \"\"\"\n",
        "    train_target = data.copy()\n",
        "    code_map = dict()    # stores mapping between original and encoded values\n",
        "    default_map = dict() # stores global average of each variable\n",
        "\n",
        "    for v in categ_variables:\n",
        "        prior = data[target].mean()\n",
        "        n = data.groupby(v).size()\n",
        "        mu = data.groupby(v)[target].mean()\n",
        "        mu_smoothed = (n * mu + smooth * prior) / (n + smooth)\n",
        "\n",
        "        train_target.loc[:, v] = train_target[v].map(mu_smoothed)\n",
        "        code_map[v] = mu_smoothed\n",
        "        default_map[v] = prior\n",
        "    return train_target, code_map, default_map\n",
        "\n",
        "def scale(df):\n",
        "    from sklearn.preprocessing import MinMaxScaler\n",
        "    scaler = MinMaxScaler()\n",
        "    columns = df.columns\n",
        "    df= scaler.fit_transform(df)\n",
        "    df = pd.DataFrame(df, columns = columns)\n",
        "    return df\n",
        "\n",
        "\n",
        "def remove_outliers(df):\n",
        "\n",
        "    df = scale(df)\n",
        "    print(df.describe())\n",
        "    outlier_detection = DBSCAN(\n",
        "    eps = .75,\n",
        "    metric=\"euclidean\",\n",
        "    min_samples = 5,\n",
        "    n_jobs = -1)\n",
        "    print(list(df.columns))\n",
        "    df1=df.copy()\n",
        "    target = df1.pop('target')\n",
        "\n",
        "    clusters = outlier_detection.fit(df1)\n",
        "    # Abstracting the data points\n",
        "    labels = clusters.labels_\n",
        "    print(\" labels.shape \",labels.shape)\n",
        "\n",
        "\n",
        "    # counting the number of outliers\n",
        "    n_clusters_ = len(set(labels)) - (1 if -1 in labels else 0)\n",
        "    n_noise_ = list(labels).count(-1)\n",
        "\n",
        "    return labels\n",
        "    \n",
        "def remove_outliers_zscore(df,thresh = 5):\n",
        "    #univariate outlier\n",
        "    scaled = scale(df)\n",
        "    df.reset_index(drop=True,inplace=True)\n",
        "    scaled.reset_index(drop=True,inplace=True)\n",
        "    z = np.abs(zscore(scaled))\n",
        "\n",
        "    index_rows, index_cols = np.where(z > thresh)\n",
        "    #scaled_outliers = scaled.iloc[index_rows, index_cols]\n",
        "    #print(scaled_outliers.shape)\n",
        "    df.drop(index_rows,axis=0,inplace=True)\n",
        "    return df\n",
        "\n",
        "# pearson's correlation feature selection\n",
        "def feature_selection(removed_outliers,X_test, k='all'):\n",
        "\n",
        "    # pearson's correlation feature selection for numeric input and numeric output\n",
        "\n",
        "    from sklearn.feature_selection import SelectKBest\n",
        "    from sklearn.feature_selection import f_regression\n",
        "    # generate dataset\n",
        "    ro_df = removed_outliers.copy()\n",
        "    y, X = ro_df.pop('target'), ro_df\n",
        "    # define feature selection\n",
        "    fs = SelectKBest(score_func=f_regression, k=k)\n",
        "    fs.fit(X, y)\n",
        "    # apply feature selection\n",
        "    #X_train_fs = fs.transform(X)\n",
        "    # transform test input data\n",
        "    #X_test_fs = fs.transform(X_test)\n",
        "    cols = fs.get_support(indices=True)\n",
        "    X_train_fs = X.iloc[:,cols]\n",
        "    X_test_fs = X_test.iloc[:,cols]\n",
        "    return X_train_fs, X_test_fs, fs\n",
        "\n",
        " # feature selection\n",
        "def select_features(removed_outliers, df_test,score_func,k='all' ):\n",
        "\n",
        "    X_train, y_train = removed_outliers.iloc[:,1:],removed_outliers.iloc[:,0]\n",
        "    X_test = df_test.iloc[:,1:]\n",
        "    # configure to select all features\n",
        "    fs = SelectKBest(score_func=score_func, k=k)\n",
        "    # learn relationship from training data\n",
        "    fs.fit(X_train, y_train)\n",
        "    cols = fs.get_support(indices=True)\n",
        "    X_train_fs = X_train.iloc[:,cols]\n",
        "    X_test_fs = X_test.iloc[:,cols]\n",
        "    plt.figure()\n",
        "    plt.bar([i for i in range(len(fs.scores_))], fs.scores_)\n",
        "    plt.show()\n",
        "    \n",
        "    return X_train_fs, X_test_fs, fs\n",
        "\n",
        "\n",
        "def smooth_train_test(train_dataset, test_dataset,categorical_columns):\n",
        "    train_target_smooth, target_map, default_map = encode_target_smooth(train_dataset, 'target', categorical_columns, 500)\n",
        "    test_target_smooth = test_dataset.copy()\n",
        "    for v in categorical_columns:\n",
        "        test_target_smooth.loc[:, v] = test_target_smooth[v].map(target_map[v])\n",
        "\n",
        "    return train_target_smooth, test_target_smooth\n",
        "\n",
        "def predict(df_train,df_test):\n",
        "    pipelines = []\n",
        "    pipelines.append((\"ScaledLR\",Pipeline([(\"Scaler\", StandardScaler()), (\"LR\", LinearRegression())])))\n",
        "    pipelines.append((\"ScaledRG\",Pipeline([(\"Scaler\", StandardScaler()), (\"RG\", Ridge())])))\n",
        "    pipelines.append((\"ScaledKNN\",Pipeline([(\"Scaler\", StandardScaler()), (\"KNN\", KNeighborsRegressor())])))\n",
        "    pipelines.append((\"ScaledLasso\",Pipeline([(\"Scaler\", StandardScaler()), (\"LS\", Lasso())])))\n",
        "    pipelines.append((\"ScaledEN\",Pipeline([(\"Scaler\", StandardScaler()), (\"EN\",ElasticNet())])))\n",
        "    pipelines.append((\"ScaledSVR\",Pipeline([(\"Scaler\", StandardScaler()), (\"SVR\", SVR(kernel=\"linear\"))])))\n",
        "    pipelines.append((\"GBM\", GradientBoostingRegressor()))\n",
        "    pipelines.append((\"XGB\", XGBRegressor()))\n",
        "    pipelines.append((\"RF\", RandomForestRegressor()))\n",
        "    pipelines.append((\"LGBM\", LGBMRegressor()))\n",
        "    results = []\n",
        "    names = []\n",
        "\n",
        "    for name, model in tqdm(pipelines):\n",
        "\n",
        "            model.fit(df_train.iloc[:, :-1], df_train.iloc[:, -1])\n",
        "            results.append([\n",
        "                mean_absolute_error(\n",
        "                    df_test.iloc[:, -1],\n",
        "                    model.predict(df_test.iloc[:, :-1]),\n",
        "                )]\n",
        "            )\n",
        "\n",
        "\n",
        "            names.append(name)\n",
        "    plt.figure()\n",
        "    plt.boxplot(results, labels=names)\n",
        "    plt.xticks(rotation=25)\n",
        "    plt.title('mean absolute error for baseline model')\n",
        "    return names, results\n",
        "def train(X_train_fs, removed_outliers):\n",
        "    df_to_train_model = X_train_fs.copy()\n",
        "    df_to_train_model[\"target\"] = removed_outliers.target\n",
        "    names, results = crossvalidation_mixed_data(df_to_train_model)\n",
        "    return df_to_train_model, names, results\n",
        "def train_test_split_stratified(X,y):\n",
        "    bins = np.linspace(0, X.shape[0], 10)\n",
        "    # Save your Y values in a new ndarray,\n",
        "    # broken down by the bins created above.\n",
        "    y_binned = np.digitize(y, bins)\n",
        "    # Pass y_binned to the stratify argument,\n",
        "    # and sklearn will handle the rest\n",
        "    X_train, X_test, y_train, y_test = train_test_split(X, y, test_size=0.2,random_state=48, stratify=y_binned)\n",
        "    return X_train,X_test,y_train, y_test\n",
        "\n",
        "def baseline_model():\n",
        "    # create model\n",
        "    model = Sequential()\n",
        "    model.add(Dense(13, input_dim=18, kernel_initializer='normal', activation='relu'))\n",
        "    model.add(Dense(1, kernel_initializer='normal'))\n",
        "    # Compile model\n",
        "    model.compile(loss='mean_squared_error', optimizer='adam')\n",
        "    return model\n",
        "\n",
        "def larger_model():\n",
        "    # create model\n",
        "    model = Sequential()\n",
        "    model.add(Dense(13, input_dim=18, kernel_initializer='normal', activation='relu'))\n",
        "    model.add(Dense(6, kernel_initializer='normal', activation='relu'))\n",
        "    model.add(Dense(3, kernel_initializer='normal', activation='relu'))\n",
        "    model.add(Dense(1, kernel_initializer='normal'))\n",
        "    # Compile model\n",
        "    model.compile(loss='mean_absolute_error', optimizer='adam')\n",
        "    return model"
      ],
      "execution_count": 2,
      "outputs": []
    },
    {
      "cell_type": "markdown",
      "metadata": {
        "id": "SGbFfLD4KNkr"
      },
      "source": [
        "#I/Without Feature engineering"
      ]
    },
    {
      "cell_type": "markdown",
      "metadata": {
        "id": "qJQF4Sh0PCZi"
      },
      "source": [
        "### A/With Outlier removal"
      ]
    },
    {
      "cell_type": "markdown",
      "metadata": {
        "id": "fIVdd6bD8XTR"
      },
      "source": [
        "Note that the dataset contains categorical and numerical variables.\n",
        "We will need to take this into account when preprocessing the dataset\n",
        "thereafter."
      ]
    },
    {
      "cell_type": "code",
      "metadata": {
        "id": "OUAH4WoK8UP8",
        "outputId": "a57563a7-b563-4b42-cc8f-cf4d2b716c44",
        "colab": {
          "base_uri": "https://localhost:8080/"
        }
      },
      "source": [
        "df = load_format_dataset()\n",
        "print(df.describe())\n",
        "target = df.pop('nbrMotInsulte')\n",
        "df['nbrMotInsulte'] = target\n",
        "X = df.iloc[:,:-1]\n",
        "y = df.iloc[:,-1]\n",
        "print(X.head())\n"
      ],
      "execution_count": 3,
      "outputs": [
        {
          "output_type": "stream",
          "text": [
            "              nbrMot  nbrMotInsulte  ...  subscriberCount     viewCount\n",
            "count   32602.000000   32602.000000  ...     32602.000000  3.260200e+04\n",
            "mean     2021.061959      13.247776  ...    188995.037973  1.006820e+08\n",
            "std      9057.404702      72.928339  ...    122590.915883  6.841188e+07\n",
            "min         2.000000       0.000000  ...         0.000000  3.109100e+04\n",
            "25%        51.000000       0.000000  ...    148033.000000  4.667016e+07\n",
            "50%       172.000000       1.000000  ...    189971.000000  8.553618e+07\n",
            "75%       833.000000       6.000000  ...    217835.000000  1.345704e+08\n",
            "max    662808.000000    7227.000000  ...    568615.000000  2.414350e+08\n",
            "\n",
            "[8 rows x 21 columns]\n",
            "   nbrMot  nbrMotAllong  nbrMotMAJ  ...  viewCount  categorie_new        categ_inst\n",
            "0    3813             4        145  ...  225393312           Core      Pure Players\n",
            "1      28             0          1  ...  132125693           Core                TV\n",
            "2    3804             9         56  ...  225393312           Core      Pure Players\n",
            "3       4             1          2  ...    2481100          Niche  Presse_regionale\n",
            "4     737             1         18  ...    6710737           Core  Presse nationale\n",
            "\n",
            "[5 rows x 23 columns]\n"
          ],
          "name": "stdout"
        }
      ]
    },
    {
      "cell_type": "markdown",
      "metadata": {
        "id": "-cT171ZT8hCJ"
      },
      "source": [
        "\n",
        "Our target for prediction: 'nbrMotInsulte'.\n",
        "'nbrMotInsulte' is described as an int.\n",
        "\n"
      ]
    },
    {
      "cell_type": "code",
      "metadata": {
        "id": "HTQabDXh8mIi",
        "outputId": "218ee123-8f35-4f18-85d0-e7232bb075af",
        "colab": {
          "base_uri": "https://localhost:8080/"
        }
      },
      "source": [
        "print(y.head())"
      ],
      "execution_count": 4,
      "outputs": [
        {
          "output_type": "stream",
          "text": [
            "0    18\n",
            "1     2\n",
            "2    68\n",
            "3     0\n",
            "4     3\n",
            "Name: nbrMotInsulte, dtype: int64\n"
          ],
          "name": "stdout"
        }
      ]
    },
    {
      "cell_type": "markdown",
      "metadata": {
        "id": "-NuSj2lr8sv9"
      },
      "source": [
        "We split the sample into a train and a test dataset using stratification.\n"
      ]
    },
    {
      "cell_type": "code",
      "metadata": {
        "id": "k52zo-1o8-dF"
      },
      "source": [
        "X_train, X_test, y_train, y_test = train_test_split_stratified(X,y)"
      ],
      "execution_count": 5,
      "outputs": []
    },
    {
      "cell_type": "markdown",
      "metadata": {
        "id": "MQEpb8iM84Da"
      },
      "source": [
        "We rename the target column by \"target\".\n",
        "We insert it in the first column"
      ]
    },
    {
      "cell_type": "code",
      "metadata": {
        "id": "YR92njZu9DgC"
      },
      "source": [
        "train_dataset = X_train.copy()\n",
        "train_dataset.insert(0, \"target\", y_train)\n",
        "test_dataset = X_test.copy()\n",
        "test_dataset.insert(0, \"target\", y_test)"
      ],
      "execution_count": 6,
      "outputs": []
    },
    {
      "cell_type": "markdown",
      "metadata": {
        "id": "IkKhRHGk9b2S"
      },
      "source": [
        "To design our machine-learning pipeline, we first manually\n",
        "check the type of data that we are dealing with:\n",
        "\n"
      ]
    },
    {
      "cell_type": "code",
      "metadata": {
        "id": "lAUXgBFz9e-g",
        "outputId": "68d65495-f9b5-4f39-c7af-35e84704b99c",
        "colab": {
          "base_uri": "https://localhost:8080/"
        }
      },
      "source": [
        "train_dataset.info()"
      ],
      "execution_count": 7,
      "outputs": [
        {
          "output_type": "stream",
          "text": [
            "<class 'pandas.core.frame.DataFrame'>\n",
            "Int64Index: 26081 entries, 27936 to 5211\n",
            "Data columns (total 24 columns):\n",
            " #   Column                   Non-Null Count  Dtype  \n",
            "---  ------                   --------------  -----  \n",
            " 0   target                   26081 non-null  int64  \n",
            " 1   nbrMot                   26081 non-null  int64  \n",
            " 2   nbrMotAllong             26081 non-null  int64  \n",
            " 3   nbrMotMAJ                26081 non-null  int64  \n",
            " 4   nbrExclMark              26081 non-null  int64  \n",
            " 5   nbrQuestMark             26081 non-null  int64  \n",
            " 6   nbrMotMoyenne            26081 non-null  float64\n",
            " 7   nbrMotInsulteMoyenne     26081 non-null  float64\n",
            " 8   nbrMotAllongMoyenne      26081 non-null  float64\n",
            " 9   nbrMotMAJMoyenne         26081 non-null  float64\n",
            " 10  nbrExclMarkMoyenne       26081 non-null  float64\n",
            " 11  nbrQuestMarkMoyenne      26081 non-null  float64\n",
            " 12  thread_count             26081 non-null  int64  \n",
            " 13  comment_count            26081 non-null  int64  \n",
            " 14  message_count            26081 non-null  int64  \n",
            " 15  discussion_count         26081 non-null  int64  \n",
            " 16  distinct_authors_count   26081 non-null  int64  \n",
            " 17  authors_3channels_count  26081 non-null  int64  \n",
            " 18  liked_authors_count      26081 non-null  int64  \n",
            " 19  channel_name             26081 non-null  object \n",
            " 20  subscriberCount          26081 non-null  int64  \n",
            " 21  viewCount                26081 non-null  int64  \n",
            " 22  categorie_new            26081 non-null  object \n",
            " 23  categ_inst               26081 non-null  object \n",
            "dtypes: float64(6), int64(15), object(3)\n",
            "memory usage: 5.0+ MB\n"
          ],
          "name": "stdout"
        }
      ]
    },
    {
      "cell_type": "markdown",
      "metadata": {
        "id": "pPz33jfl9lLs"
      },
      "source": [
        "Categorical variables cannot be included in linear model if not\n",
        "coded as integers first. In addition, to avoid categorical features to be\n",
        "treated as ordered values, we need to mean-encode them using regularization.\n"
      ]
    },
    {
      "cell_type": "code",
      "metadata": {
        "id": "mrUj0Bbp9q-d"
      },
      "source": [
        "categorical_columns = [col  for col in train_dataset.columns if (train_dataset[col].dtype=='O')]\n",
        "numerical_columns = [col  for col in train_dataset.columns if (train_dataset[col].dtype!='O')]\n",
        "#Mean Encoding with regularization\n",
        "train_target_smooth,test_target_smooth=smooth_train_test(train_dataset, test_dataset,categorical_columns)"
      ],
      "execution_count": 8,
      "outputs": []
    },
    {
      "cell_type": "markdown",
      "metadata": {
        "id": "yKKAC1vO9yRP"
      },
      "source": [
        "Remove outliers using z_score"
      ]
    },
    {
      "cell_type": "code",
      "metadata": {
        "id": "waogOGj3959d"
      },
      "source": [
        "removed_outliers = remove_outliers_zscore(train_target_smooth)"
      ],
      "execution_count": 9,
      "outputs": []
    },
    {
      "cell_type": "markdown",
      "metadata": {
        "id": "n1isjlOh99Fq"
      },
      "source": [
        "Correlation feature selection:\n",
        "\n",
        "1/ Using Pearson correlation\n",
        "\n"
      ]
    },
    {
      "cell_type": "code",
      "metadata": {
        "id": "YxoC_xpy-KzB",
        "outputId": "7dcf4b15-fe02-4757-98fa-2089536c4e45",
        "colab": {
          "base_uri": "https://localhost:8080/",
          "height": 513
        }
      },
      "source": [
        "X_train_fs, X_test_fs, fs = select_features(removed_outliers, test_target_smooth,f_regression, k='all')\n",
        "#12 features are clearly more important than others the highest of them being comment_count\n",
        "X_train_fs_c, X_test_fs_c, fs_c = select_features(removed_outliers, test_target_smooth,f_regression, k=15)\n"
      ],
      "execution_count": 10,
      "outputs": [
        {
          "output_type": "display_data",
          "data": {
            "image/png": "[encoded data removed]",
            "text/plain": [
              "<Figure size 432x288 with 1 Axes>"
            ]
          },
          "metadata": {
            "tags": [],
            "needs_background": "light"
          }
        },
        {
          "output_type": "display_data",
          "data": {
            "image/png": "[encoded data removed]",
            "text/plain": [
              "<Figure size 432x288 with 1 Axes>"
            ]
          },
          "metadata": {
            "tags": [],
            "needs_background": "light"
          }
        }
      ]
    },
    {
      "cell_type": "markdown",
      "metadata": {
        "id": "e9yLQuoe-VPY"
      },
      "source": [
        "2/ Using Mutual information"
      ]
    },
    {
      "cell_type": "code",
      "metadata": {
        "id": "VMwOA2Sc-XiW",
        "outputId": "89c37004-9e51-4999-fb30-cff1172cbf11",
        "colab": {
          "base_uri": "https://localhost:8080/",
          "height": 513
        }
      },
      "source": [
        "#Mutual Information Feature Selection\n",
        "X_train_fs, X_test_fs, fs = select_features(removed_outliers, test_target_smooth,mutual_info_regression, k='all')\n",
        "#18 features are clearly more important than others\n",
        "X_train_fs_m, X_test_fs_m, fs_m = select_features(removed_outliers, test_target_smooth,mutual_info_regression, k=18)"
      ],
      "execution_count": 11,
      "outputs": [
        {
          "output_type": "display_data",
          "data": {
            "image/png": "[encoded data removed]",
            "text/plain": [
              "<Figure size 432x288 with 1 Axes>"
            ]
          },
          "metadata": {
            "tags": [],
            "needs_background": "light"
          }
        },
        {
          "output_type": "display_data",
          "data": {
            "image/png": "[encoded data removed]",
            "text/plain": [
              "<Figure size 432x288 with 1 Axes>"
            ]
          },
          "metadata": {
            "tags": [],
            "needs_background": "light"
          }
        }
      ]
    },
    {
      "cell_type": "markdown",
      "metadata": {
        "id": "VJ6XunVl-dmU"
      },
      "source": [
        "##Model using mutual information selection\n",
        "   \n"
      ]
    },
    {
      "cell_type": "code",
      "metadata": {
        "id": "rLrLb4cd-f-T",
        "outputId": "c552e303-68a8-4b2c-9ce7-dc93a1dbacd3",
        "colab": {
          "base_uri": "https://localhost:8080/",
          "height": 424
        }
      },
      "source": [
        "df_to_train_model_1,names_1, results_1 = train(X_train_fs_m, removed_outliers)"
      ],
      "execution_count": 12,
      "outputs": [
        {
          "output_type": "stream",
          "text": [
            " 70%|███████   | 7/10 [03:55<02:33, 51.22s/it]"
          ],
          "name": "stderr"
        },
        {
          "output_type": "stream",
          "text": [
            "[16:39:12] WARNING: /workspace/src/objective/regression_obj.cu:152: reg:linear is now deprecated in favor of reg:squarederror.\n",
            "[16:39:13] WARNING: /workspace/src/objective/regression_obj.cu:152: reg:linear is now deprecated in favor of reg:squarederror.\n",
            "[16:39:15] WARNING: /workspace/src/objective/regression_obj.cu:152: reg:linear is now deprecated in favor of reg:squarederror.\n",
            "[16:39:16] WARNING: /workspace/src/objective/regression_obj.cu:152: reg:linear is now deprecated in favor of reg:squarederror.\n",
            "[16:39:17] WARNING: /workspace/src/objective/regression_obj.cu:152: reg:linear is now deprecated in favor of reg:squarederror.\n"
          ],
          "name": "stdout"
        },
        {
          "output_type": "stream",
          "text": [
            "100%|██████████| 10/10 [04:54<00:00, 29.48s/it]\n"
          ],
          "name": "stderr"
        },
        {
          "output_type": "display_data",
          "data": {
            "image/png": "[encoded data removed]",
            "text/plain": [
              "<Figure size 432x288 with 1 Axes>"
            ]
          },
          "metadata": {
            "tags": [],
            "needs_background": "light"
          }
        }
      ]
    },
    {
      "cell_type": "markdown",
      "metadata": {
        "id": "mJf8BKqx-kdy"
      },
      "source": [
        "##Predict"
      ]
    },
    {
      "cell_type": "code",
      "metadata": {
        "id": "G8K3kR_I-iJY",
        "outputId": "645d0f6d-9a83-4a15-9c3a-8f97a54eab8f",
        "colab": {
          "base_uri": "https://localhost:8080/",
          "height": 357
        }
      },
      "source": [
        "df_to_test_model_1 = X_test_fs_m.copy()\n",
        "df_to_test_model_1[\"target\"] = y_test\n",
        "n,r = predict(df_to_train_model_1, df_to_test_model_1)\n",
        "time.sleep(5)"
      ],
      "execution_count": 13,
      "outputs": [
        {
          "output_type": "stream",
          "text": [
            " 70%|███████   | 7/10 [01:09<00:45, 15.02s/it]"
          ],
          "name": "stderr"
        },
        {
          "output_type": "stream",
          "text": [
            "[16:41:21] WARNING: /workspace/src/objective/regression_obj.cu:152: reg:linear is now deprecated in favor of reg:squarederror.\n"
          ],
          "name": "stdout"
        },
        {
          "output_type": "stream",
          "text": [
            "100%|██████████| 10/10 [01:24<00:00,  8.42s/it]\n"
          ],
          "name": "stderr"
        },
        {
          "output_type": "display_data",
          "data": {
            "image/png": "[encoded data removed]",
            "text/plain": [
              "<Figure size 432x288 with 1 Axes>"
            ]
          },
          "metadata": {
            "tags": [],
            "needs_background": "light"
          }
        }
      ]
    },
    {
      "cell_type": "markdown",
      "metadata": {
        "id": "jB4So98J-32c"
      },
      "source": [
        "##Model using pearson correlation selection"
      ]
    },
    {
      "cell_type": "code",
      "metadata": {
        "id": "yHw4kVMk-8Ei",
        "outputId": "29de5bad-b4fd-40ee-e7ff-d49418d23b0b",
        "colab": {
          "base_uri": "https://localhost:8080/",
          "height": 424
        }
      },
      "source": [
        "df_to_train_model_2,names_2, results_2 = train(X_train_fs_c, removed_outliers)\n"
      ],
      "execution_count": 14,
      "outputs": [
        {
          "output_type": "stream",
          "text": [
            " 70%|███████   | 7/10 [02:49<01:50, 36.97s/it]"
          ],
          "name": "stderr"
        },
        {
          "output_type": "stream",
          "text": [
            "[16:44:30] WARNING: /workspace/src/objective/regression_obj.cu:152: reg:linear is now deprecated in favor of reg:squarederror.\n",
            "[16:44:31] WARNING: /workspace/src/objective/regression_obj.cu:152: reg:linear is now deprecated in favor of reg:squarederror.\n",
            "[16:44:32] WARNING: /workspace/src/objective/regression_obj.cu:152: reg:linear is now deprecated in favor of reg:squarederror.\n",
            "[16:44:33] WARNING: /workspace/src/objective/regression_obj.cu:152: reg:linear is now deprecated in favor of reg:squarederror.\n",
            "[16:44:34] WARNING: /workspace/src/objective/regression_obj.cu:152: reg:linear is now deprecated in favor of reg:squarederror.\n"
          ],
          "name": "stdout"
        },
        {
          "output_type": "stream",
          "text": [
            "100%|██████████| 10/10 [03:36<00:00, 21.67s/it]\n"
          ],
          "name": "stderr"
        },
        {
          "output_type": "display_data",
          "data": {
            "image/png": "[encoded data removed]",
            "text/plain": [
              "<Figure size 432x288 with 1 Axes>"
            ]
          },
          "metadata": {
            "tags": [],
            "needs_background": "light"
          }
        }
      ]
    },
    {
      "cell_type": "markdown",
      "metadata": {
        "id": "xjZRV9li_CDJ"
      },
      "source": [
        "##Predict"
      ]
    },
    {
      "cell_type": "code",
      "metadata": {
        "id": "czv9CW1y_Erg",
        "outputId": "8eb468c5-121c-411b-cb76-7a0746992524",
        "colab": {
          "base_uri": "https://localhost:8080/",
          "height": 357
        }
      },
      "source": [
        "df_to_test_model_2 = X_test_fs_c.copy()\n",
        "df_to_test_model_2[\"target\"] = y_test\n",
        "n,r = predict(df_to_train_model_2, df_to_test_model_2)\n"
      ],
      "execution_count": 15,
      "outputs": [
        {
          "output_type": "stream",
          "text": [
            " 70%|███████   | 7/10 [00:48<00:31, 10.63s/it]"
          ],
          "name": "stderr"
        },
        {
          "output_type": "stream",
          "text": [
            "[16:46:12] WARNING: /workspace/src/objective/regression_obj.cu:152: reg:linear is now deprecated in favor of reg:squarederror.\n"
          ],
          "name": "stdout"
        },
        {
          "output_type": "stream",
          "text": [
            "100%|██████████| 10/10 [01:00<00:00,  6.08s/it]\n"
          ],
          "name": "stderr"
        },
        {
          "output_type": "display_data",
          "data": {
            "image/png": "[encoded data removed]",
            "text/plain": [
              "<Figure size 432x288 with 1 Axes>"
            ]
          },
          "metadata": {
            "tags": [],
            "needs_background": "light"
          }
        }
      ]
    },
    {
      "cell_type": "markdown",
      "metadata": {
        "id": "wcJIu9k-Pgu0"
      },
      "source": [
        "### B/Without Outlier removal"
      ]
    },
    {
      "cell_type": "code",
      "metadata": {
        "id": "Xvwuskg0PnDs",
        "outputId": "989918e6-46db-4a6e-8db1-f7941bf00c4a",
        "colab": {
          "base_uri": "https://localhost:8080/",
          "height": 513
        }
      },
      "source": [
        "X_train_fs, X_test_fs, fs = select_features(train_target_smooth, test_target_smooth,f_regression, k='all')\n",
        "#12 features are clearly more important than others the highest of them being comment_count\n",
        "X_train_fs_c_wor, X_test_fs_c_wor, fs_c_wor = select_features(train_target_smooth, test_target_smooth,f_regression, k=18)"
      ],
      "execution_count": 47,
      "outputs": [
        {
          "output_type": "display_data",
          "data": {
            "image/png": "[encoded data removed]",
            "text/plain": [
              "<Figure size 432x288 with 1 Axes>"
            ]
          },
          "metadata": {
            "tags": [],
            "needs_background": "light"
          }
        },
        {
          "output_type": "display_data",
          "data": {
            "image/png": "[encoded data removed]",
            "text/plain": [
              "<Figure size 432x288 with 1 Axes>"
            ]
          },
          "metadata": {
            "tags": [],
            "needs_background": "light"
          }
        }
      ]
    },
    {
      "cell_type": "code",
      "metadata": {
        "id": "5f_qud_yQ40M",
        "outputId": "71fce4d2-ed54-43b0-8c60-6912642bf759",
        "colab": {
          "base_uri": "https://localhost:8080/",
          "height": 424
        }
      },
      "source": [
        "df_to_train_model_5,names_5, results_5 = train(X_train_fs_c_wor, train_target_smooth)"
      ],
      "execution_count": 48,
      "outputs": [
        {
          "output_type": "stream",
          "text": [
            " 70%|███████   | 7/10 [03:33<02:19, 46.53s/it]"
          ],
          "name": "stderr"
        },
        {
          "output_type": "stream",
          "text": [
            "[18:01:04] WARNING: /workspace/src/objective/regression_obj.cu:152: reg:linear is now deprecated in favor of reg:squarederror.\n",
            "[18:01:06] WARNING: /workspace/src/objective/regression_obj.cu:152: reg:linear is now deprecated in favor of reg:squarederror.\n",
            "[18:01:07] WARNING: /workspace/src/objective/regression_obj.cu:152: reg:linear is now deprecated in favor of reg:squarederror.\n",
            "[18:01:08] WARNING: /workspace/src/objective/regression_obj.cu:152: reg:linear is now deprecated in favor of reg:squarederror.\n",
            "[18:01:10] WARNING: /workspace/src/objective/regression_obj.cu:152: reg:linear is now deprecated in favor of reg:squarederror.\n"
          ],
          "name": "stdout"
        },
        {
          "output_type": "stream",
          "text": [
            "100%|██████████| 10/10 [04:27<00:00, 26.77s/it]\n"
          ],
          "name": "stderr"
        },
        {
          "output_type": "display_data",
          "data": {
            "image/png": "[encoded data removed]",
            "text/plain": [
              "<Figure size 432x288 with 1 Axes>"
            ]
          },
          "metadata": {
            "tags": [],
            "needs_background": "light"
          }
        }
      ]
    },
    {
      "cell_type": "code",
      "metadata": {
        "id": "cCtvIgovRmK5",
        "outputId": "cc638b59-3ddc-43d4-948a-631e5d938d13",
        "colab": {
          "base_uri": "https://localhost:8080/",
          "height": 357
        }
      },
      "source": [
        "df_to_test_model_5 = X_test_fs_c_wor.copy()\n",
        "df_to_test_model_5[\"target\"] = y_test_fe\n",
        "n,r = predict(df_to_train_model_5, df_to_test_model_5)"
      ],
      "execution_count": 49,
      "outputs": [
        {
          "output_type": "stream",
          "text": [
            " 70%|███████   | 7/10 [01:07<00:24,  8.18s/it]"
          ],
          "name": "stderr"
        },
        {
          "output_type": "stream",
          "text": [
            "[18:03:06] WARNING: /workspace/src/objective/regression_obj.cu:152: reg:linear is now deprecated in favor of reg:squarederror.\n"
          ],
          "name": "stdout"
        },
        {
          "output_type": "stream",
          "text": [
            "100%|██████████| 10/10 [01:20<00:00,  8.07s/it]\n"
          ],
          "name": "stderr"
        },
        {
          "output_type": "display_data",
          "data": {
            "image/png": "[encoded data removed]",
            "text/plain": [
              "<Figure size 432x288 with 1 Axes>"
            ]
          },
          "metadata": {
            "tags": [],
            "needs_background": "light"
          }
        }
      ]
    },
    {
      "cell_type": "markdown",
      "metadata": {
        "id": "EKzfX2-j_I8E"
      },
      "source": [
        "#II/With Feature engineering"
      ]
    },
    {
      "cell_type": "markdown",
      "metadata": {
        "id": "gYo9sE-l_V2T"
      },
      "source": [
        "Prepping dataset"
      ]
    },
    {
      "cell_type": "code",
      "metadata": {
        "id": "xOjtCvYC_Ytv"
      },
      "source": [
        "df_o = load_format_dataset()\n",
        "df_fe = feature_engineering(df_o,target='nbrMotInsulte')\n",
        "target = df_fe.pop('nbrMotInsulte')\n",
        "df_fe['nbrMotInsulte'] = target\n",
        "X_fe = df_fe.iloc[:,:-1]\n",
        "y_fe = df_fe.iloc[:,-1]\n",
        "X_train_fe, X_test_fe, y_train_fe, y_test_fe =train_test_split_stratified( X_fe, y_fe)\n",
        "train_dataset_fe = X_train_fe.copy()\n",
        "train_dataset_fe.insert(0, \"target\", y_train_fe)\n",
        "test_dataset_fe = X_test_fe.copy()\n",
        "test_dataset_fe.insert(0, \"target\", y_test_fe)"
      ],
      "execution_count": 16,
      "outputs": []
    },
    {
      "cell_type": "markdown",
      "metadata": {
        "id": "aDeufkQM_lWX"
      },
      "source": [
        "- Mean encoding\n",
        "\n",
        "- Outliers' removal\n",
        "\n",
        "- Feature selection(pearson correlation)"
      ]
    },
    {
      "cell_type": "code",
      "metadata": {
        "id": "srQaHHv0_NwF",
        "outputId": "e7b4f4df-58b0-4be2-bc2f-c7a0bef66f03",
        "colab": {
          "base_uri": "https://localhost:8080/",
          "height": 513
        }
      },
      "source": [
        "#Using smoothing encoding\n",
        "train_target_smooth_fe,test_target_smooth_fe = smooth_train_test(train_dataset_fe, test_dataset_fe,categorical_columns)\n",
        "removed_outliers_fe = remove_outliers_zscore(train_target_smooth_fe)\n",
        "#Correlation feature selection\n",
        "X_train_fs, X_test_fs, fs = select_features(removed_outliers_fe, test_target_smooth_fe,f_regression, k='all')\n",
        "#15 features are clearly more important than others the highest of them being comment_count\n",
        "X_train_fs_c_fe, X_test_fs_c_fe, fs_fe = select_features(removed_outliers_fe, test_target_smooth_fe,f_regression, k=19)"
      ],
      "execution_count": 17,
      "outputs": [
        {
          "output_type": "display_data",
          "data": {
            "image/png": "[encoded data removed]",
            "text/plain": [
              "<Figure size 432x288 with 1 Axes>"
            ]
          },
          "metadata": {
            "tags": [],
            "needs_background": "light"
          }
        },
        {
          "output_type": "display_data",
          "data": {
            "image/png": "[encoded data removed]",
            "text/plain": [
              "<Figure size 432x288 with 1 Axes>"
            ]
          },
          "metadata": {
            "tags": [],
            "needs_background": "light"
          }
        }
      ]
    },
    {
      "cell_type": "markdown",
      "metadata": {
        "id": "VA8Q4OlY_-eA"
      },
      "source": [
        "Mutual information feature selection"
      ]
    },
    {
      "cell_type": "code",
      "metadata": {
        "id": "tiQFDA6HAB8X",
        "outputId": "c7fa1af6-8520-434f-aa1c-7ad29ff11fc5",
        "colab": {
          "base_uri": "https://localhost:8080/",
          "height": 513
        }
      },
      "source": [
        "#Mutual Information Feature Selection\n",
        "X_train_fs, X_test_fs, fs = select_features(removed_outliers_fe, test_target_smooth_fe,mutual_info_regression, k='all')\n",
        "#21 features are clearly more important than others\n",
        "X_train_fs_m_fe, X_test_fs_m_fe, fs_m_fe = select_features(removed_outliers_fe, test_target_smooth_fe,mutual_info_regression, k=32)\n"
      ],
      "execution_count": 37,
      "outputs": [
        {
          "output_type": "display_data",
          "data": {
            "image/png": "[encoded data removed]",
            "text/plain": [
              "<Figure size 432x288 with 1 Axes>"
            ]
          },
          "metadata": {
            "tags": [],
            "needs_background": "light"
          }
        },
        {
          "output_type": "display_data",
          "data": {
            "image/png": "[encoded data removed]",
            "text/plain": [
              "<Figure size 432x288 with 1 Axes>"
            ]
          },
          "metadata": {
            "tags": [],
            "needs_background": "light"
          }
        }
      ]
    },
    {
      "cell_type": "markdown",
      "metadata": {
        "id": "avdn-FybAIFQ"
      },
      "source": [
        "Model with feature engineering Pearson Correlation feature selection"
      ]
    },
    {
      "cell_type": "code",
      "metadata": {
        "id": "XutNH3mpAHTa",
        "outputId": "93b4a329-d9dc-49d9-f358-b2b692119887",
        "colab": {
          "base_uri": "https://localhost:8080/",
          "height": 424
        }
      },
      "source": [
        "df_to_train_model_3,names_3, results_3 = train(X_train_fs_c_fe, removed_outliers_fe)\n"
      ],
      "execution_count": 19,
      "outputs": [
        {
          "output_type": "stream",
          "text": [
            " 70%|███████   | 7/10 [03:07<02:02, 40.89s/it]"
          ],
          "name": "stderr"
        },
        {
          "output_type": "stream",
          "text": [
            "[16:50:25] WARNING: /workspace/src/objective/regression_obj.cu:152: reg:linear is now deprecated in favor of reg:squarederror.\n",
            "[16:50:26] WARNING: /workspace/src/objective/regression_obj.cu:152: reg:linear is now deprecated in favor of reg:squarederror.\n",
            "[16:50:27] WARNING: /workspace/src/objective/regression_obj.cu:152: reg:linear is now deprecated in favor of reg:squarederror.\n",
            "[16:50:29] WARNING: /workspace/src/objective/regression_obj.cu:152: reg:linear is now deprecated in favor of reg:squarederror.\n",
            "[16:50:30] WARNING: /workspace/src/objective/regression_obj.cu:152: reg:linear is now deprecated in favor of reg:squarederror.\n"
          ],
          "name": "stdout"
        },
        {
          "output_type": "stream",
          "text": [
            "100%|██████████| 10/10 [04:00<00:00, 24.09s/it]\n"
          ],
          "name": "stderr"
        },
        {
          "output_type": "display_data",
          "data": {
            "image/png": "[encoded data removed]",
            "text/plain": [
              "<Figure size 432x288 with 1 Axes>"
            ]
          },
          "metadata": {
            "tags": [],
            "needs_background": "light"
          }
        }
      ]
    },
    {
      "cell_type": "markdown",
      "metadata": {
        "id": "1Ch3gSg0AYiz"
      },
      "source": [
        "Predict"
      ]
    },
    {
      "cell_type": "code",
      "metadata": {
        "id": "9mJ8CHUCAbbJ",
        "outputId": "7469ecf1-075d-4947-fe4f-54e57ffa71fb",
        "colab": {
          "base_uri": "https://localhost:8080/",
          "height": 357
        }
      },
      "source": [
        "df_to_test_model_3 = X_test_fs_c_fe.copy()\n",
        "df_to_test_model_3[\"target\"] = y_test_fe\n",
        "n,r = predict(df_to_train_model_3, df_to_test_model_3)\n"
      ],
      "execution_count": 38,
      "outputs": [
        {
          "output_type": "stream",
          "text": [
            " 70%|███████   | 7/10 [00:57<00:37, 12.55s/it]"
          ],
          "name": "stderr"
        },
        {
          "output_type": "stream",
          "text": [
            "[17:29:27] WARNING: /workspace/src/objective/regression_obj.cu:152: reg:linear is now deprecated in favor of reg:squarederror.\n"
          ],
          "name": "stdout"
        },
        {
          "output_type": "stream",
          "text": [
            "100%|██████████| 10/10 [01:11<00:00,  7.15s/it]\n"
          ],
          "name": "stderr"
        },
        {
          "output_type": "display_data",
          "data": {
            "image/png": "[encoded data removed]",
            "text/plain": [
              "<Figure size 432x288 with 1 Axes>"
            ]
          },
          "metadata": {
            "tags": [],
            "needs_background": "light"
          }
        }
      ]
    },
    {
      "cell_type": "markdown",
      "metadata": {
        "id": "w5g-XvUWAnbJ"
      },
      "source": [
        "Model with feature engineering and Mutual Information feature selection"
      ]
    },
    {
      "cell_type": "code",
      "metadata": {
        "id": "MW2z8QvEAglz",
        "outputId": "ae609f6a-1e98-416b-d76f-954e8f436901",
        "colab": {
          "base_uri": "https://localhost:8080/",
          "height": 424
        }
      },
      "source": [
        "df_to_train_model_4,names_4, results_4 = train(X_train_fs_m_fe, removed_outliers_fe)\n"
      ],
      "execution_count": 21,
      "outputs": [
        {
          "output_type": "stream",
          "text": [
            " 70%|███████   | 7/10 [04:37<03:00, 60.14s/it]"
          ],
          "name": "stderr"
        },
        {
          "output_type": "stream",
          "text": [
            "[16:57:17] WARNING: /workspace/src/objective/regression_obj.cu:152: reg:linear is now deprecated in favor of reg:squarederror.\n",
            "[16:57:19] WARNING: /workspace/src/objective/regression_obj.cu:152: reg:linear is now deprecated in favor of reg:squarederror.\n",
            "[16:57:20] WARNING: /workspace/src/objective/regression_obj.cu:152: reg:linear is now deprecated in favor of reg:squarederror.\n",
            "[16:57:22] WARNING: /workspace/src/objective/regression_obj.cu:152: reg:linear is now deprecated in favor of reg:squarederror.\n",
            "[16:57:23] WARNING: /workspace/src/objective/regression_obj.cu:152: reg:linear is now deprecated in favor of reg:squarederror.\n"
          ],
          "name": "stdout"
        },
        {
          "output_type": "stream",
          "text": [
            "100%|██████████| 10/10 [05:44<00:00, 34.45s/it]\n"
          ],
          "name": "stderr"
        },
        {
          "output_type": "display_data",
          "data": {
            "image/png": "[encoded data removed]",
            "text/plain": [
              "<Figure size 432x288 with 1 Axes>"
            ]
          },
          "metadata": {
            "tags": [],
            "needs_background": "light"
          }
        }
      ]
    },
    {
      "cell_type": "code",
      "metadata": {
        "id": "rqxokR-XAwzn",
        "outputId": "41a83aef-038a-44fb-eb8e-bff64f5201b7",
        "colab": {
          "base_uri": "https://localhost:8080/",
          "height": 357
        }
      },
      "source": [
        "df_to_test_model_4 = X_test_fs_m_fe.copy()\n",
        "df_to_test_model_4[\"target\"] = y_test_fe\n",
        "n,r = predict(df_to_train_model_4, df_to_test_model_4)"
      ],
      "execution_count": 22,
      "outputs": [
        {
          "output_type": "stream",
          "text": [
            " 70%|███████   | 7/10 [01:22<00:53, 17.72s/it]"
          ],
          "name": "stderr"
        },
        {
          "output_type": "stream",
          "text": [
            "[16:59:51] WARNING: /workspace/src/objective/regression_obj.cu:152: reg:linear is now deprecated in favor of reg:squarederror.\n"
          ],
          "name": "stdout"
        },
        {
          "output_type": "stream",
          "text": [
            "100%|██████████| 10/10 [01:38<00:00,  9.89s/it]\n"
          ],
          "name": "stderr"
        },
        {
          "output_type": "display_data",
          "data": {
            "image/png": "[encoded data removed]",
            "text/plain": [
              "<Figure size 432x288 with 1 Axes>"
            ]
          },
          "metadata": {
            "tags": [],
            "needs_background": "light"
          }
        }
      ]
    },
    {
      "cell_type": "markdown",
      "metadata": {
        "id": "7OLofx_WJ-K6"
      },
      "source": [
        "=>There is no real boost in performance with feature engineering."
      ]
    },
    {
      "cell_type": "markdown",
      "metadata": {
        "id": "kAp6z2mLA1sr"
      },
      "source": [
        "# III/Neural models"
      ]
    },
    {
      "cell_type": "markdown",
      "metadata": {
        "id": "M1Yrh1rUShSk"
      },
      "source": [
        "###A/ With outlier removal"
      ]
    },
    {
      "cell_type": "code",
      "metadata": {
        "id": "DSsTsTkHA2Zu",
        "outputId": "7d49fa4c-476f-4a37-8ae4-4389db7840d4",
        "colab": {
          "base_uri": "https://localhost:8080/",
          "height": 295
        }
      },
      "source": [
        "estimator = KerasRegressor(build_fn=larger_model, epochs=500, batch_size=20, verbose=0)\n",
        "history=estimator.fit(X_train_fs_m, removed_outliers.target)\n",
        "plt.plot(history.history['loss'])\n",
        "\n",
        "plt.title('Model loss')\n",
        "plt.ylabel('Loss')\n",
        "plt.xlabel('Epoch')\n",
        "plt.legend(['Train', 'Test'], loc='upper left')\n",
        "plt.show()"
      ],
      "execution_count": 23,
      "outputs": [
        {
          "output_type": "display_data",
          "data": {
            "image/png": "[encoded data removed]",
            "text/plain": [
              "<Figure size 432x288 with 1 Axes>"
            ]
          },
          "metadata": {
            "tags": [],
            "needs_background": "light"
          }
        }
      ]
    },
    {
      "cell_type": "markdown",
      "metadata": {
        "id": "-OqewF4tXQ4s"
      },
      "source": [
        "Predict"
      ]
    },
    {
      "cell_type": "code",
      "metadata": {
        "id": "2T8BMoTgHVQu"
      },
      "source": [
        "y_preds = history=estimator.predict(X_test_fs_m)\n"
      ],
      "execution_count": 26,
      "outputs": []
    },
    {
      "cell_type": "code",
      "metadata": {
        "id": "VblxD3NANVSU",
        "outputId": "d6f724f2-190a-4f9d-9b4c-025f3223e1d3",
        "colab": {
          "base_uri": "https://localhost:8080/"
        }
      },
      "source": [
        "train_error =  np.abs(y_test - y_preds)\n",
        "mean_error = np.mean(train_error)\n",
        "min_error = np.min(train_error)\n",
        "max_error = np.max(train_error)\n",
        "std_error = np.std(train_error)\n",
        "print(\"std_error: \",std_error)\n",
        "print(\"mean_error: \",mean_error)\n",
        "print(\"min_error: \",min_error)\n",
        "print(\"max_error: \",max_error)"
      ],
      "execution_count": 33,
      "outputs": [
        {
          "output_type": "stream",
          "text": [
            "std_error:  21.0542262224153\n",
            "mean_error:  3.0362309260157843\n",
            "min_error:  1.5735626220703125e-05\n",
            "max_error:  572.3071899414062\n"
          ],
          "name": "stdout"
        }
      ]
    },
    {
      "cell_type": "code",
      "metadata": {
        "id": "_evx_3c5X5dG"
      },
      "source": [
        "mean_absolute_error(y_preds,y_test)"
      ],
      "execution_count": null,
      "outputs": []
    },
    {
      "cell_type": "markdown",
      "metadata": {
        "id": "8gwt1uewXWBn"
      },
      "source": [
        "Visualizing real and predicted Results"
      ]
    },
    {
      "cell_type": "code",
      "metadata": {
        "id": "t4diN5dtL6bD",
        "outputId": "83bb16fe-3690-41a8-f17a-25d17ea121cb",
        "colab": {
          "base_uri": "https://localhost:8080/",
          "height": 295
        }
      },
      "source": [
        "\n",
        "x = np.arange(0,y_test.shape[0])\n",
        "plt.plot(x,y_test,  color = 'green', label = 'Actual')\n",
        "plt.plot(x,y_preds, color = 'blue', label = 'Predicted')\n",
        "plt.grid(alpha = 0.3)\n",
        "plt.xlabel('Number of test sample')\n",
        "plt.ylabel('Value')\n",
        "plt.title('Actual vs Predicted')\n",
        "plt.legend()\n",
        "plt.show()"
      ],
      "execution_count": 36,
      "outputs": [
        {
          "output_type": "display_data",
          "data": {
            "image/png": "[encoded data removed]",
            "text/plain": [
              "<Figure size 432x288 with 1 Axes>"
            ]
          },
          "metadata": {
            "tags": [],
            "needs_background": "light"
          }
        }
      ]
    },
    {
      "cell_type": "markdown",
      "metadata": {
        "id": "zGjX8pBySnn2"
      },
      "source": [
        "###B/without outlier removal"
      ]
    },
    {
      "cell_type": "code",
      "metadata": {
        "id": "W9lK1409Sxrr",
        "outputId": "6b6c2835-4d4c-4cda-87e6-a46e0051abc7",
        "colab": {
          "base_uri": "https://localhost:8080/",
          "height": 295
        }
      },
      "source": [
        "estimator = KerasRegressor(build_fn=larger_model, epochs=6, batch_size=3, verbose=0)\n",
        "history=estimator.fit(X_train_fs_c_wor, train_target_smooth.target)\n",
        "plt.plot(history.history['loss'])\n",
        "\n",
        "plt.title('Model loss')\n",
        "plt.ylabel('Loss')\n",
        "plt.xlabel('Epoch')\n",
        "plt.legend(['Train', 'Test'], loc='upper left')\n",
        "plt.show()"
      ],
      "execution_count": 65,
      "outputs": [
        {
          "output_type": "display_data",
          "data": {
            "image/png": "[encoded data removed]",
            "text/plain": [
              "<Figure size 432x288 with 1 Axes>"
            ]
          },
          "metadata": {
            "tags": [],
            "needs_background": "light"
          }
        }
      ]
    },
    {
      "cell_type": "markdown",
      "metadata": {
        "id": "wNKF0kFecA1O"
      },
      "source": [
        "=> If we leave the outliers, the customized neural network is too simple and is thus underfitting. \n"
      ]
    },
    {
      "cell_type": "markdown",
      "metadata": {
        "id": "fMauf8BMAvnO"
      },
      "source": [
        "Predict"
      ]
    },
    {
      "cell_type": "code",
      "metadata": {
        "id": "m-xIBbgnS6GS"
      },
      "source": [
        "y_preds = history=estimator.predict(X_test_fs_c_wor)"
      ],
      "execution_count": 66,
      "outputs": []
    },
    {
      "cell_type": "code",
      "metadata": {
        "id": "RLi22PgSS6Ni",
        "outputId": "11a9e0fd-2ff8-490a-f047-85e67bf97bfc",
        "colab": {
          "base_uri": "https://localhost:8080/"
        }
      },
      "source": [
        "train_error =  np.abs(y_test - y_preds)\n",
        "mean_error = np.mean(train_error)\n",
        "min_error = np.min(train_error)\n",
        "max_error = np.max(train_error)\n",
        "std_error = np.std(train_error)\n",
        "print(\"std_error: \",std_error)\n",
        "print(\"mean_error: \",mean_error)\n",
        "print(\"min_error: \",min_error)\n",
        "print(\"max_error: \",max_error)"
      ],
      "execution_count": 67,
      "outputs": [
        {
          "output_type": "stream",
          "text": [
            "std_error:  51.55807876027666\n",
            "mean_error:  12.565581407745892\n",
            "min_error:  0.0020110607147216797\n",
            "max_error:  1531.9979889392853\n"
          ],
          "name": "stdout"
        }
      ]
    },
    {
      "cell_type": "code",
      "metadata": {
        "id": "BWT40mWTXrjw",
        "outputId": "40b11f85-2961-439c-a492-8804c5e4f3ee",
        "colab": {
          "base_uri": "https://localhost:8080/"
        }
      },
      "source": [
        "mean_absolute_error(y_preds,y_test)"
      ],
      "execution_count": 68,
      "outputs": [
        {
          "output_type": "execute_result",
          "data": {
            "text/plain": [
              "12.565581407745892"
            ]
          },
          "metadata": {
            "tags": []
          },
          "execution_count": 68
        }
      ]
    },
    {
      "cell_type": "markdown",
      "metadata": {
        "id": "XAtBogToXmKv"
      },
      "source": [
        "#Visualizing real and predicted Results"
      ]
    },
    {
      "cell_type": "code",
      "metadata": {
        "id": "Wayp1xmDS_-n",
        "outputId": "a325831a-0e56-40b3-987d-19f6f6d1794f",
        "colab": {
          "base_uri": "https://localhost:8080/",
          "height": 295
        }
      },
      "source": [
        "#Visualising the Acutal and predicted Result\n",
        "x = np.arange(0,y_test.shape[0])\n",
        "plt.plot(x,y_test,  color = 'green', label = 'Actual')\n",
        "plt.plot(x,y_preds, color = 'blue', label = 'Predicted')\n",
        "plt.grid(alpha = 0.3)\n",
        "plt.xlabel('Number of test sample')\n",
        "plt.ylabel('Value')\n",
        "plt.title('Actual vs Predicted')\n",
        "plt.legend()\n",
        "plt.show()"
      ],
      "execution_count": 69,
      "outputs": [
        {
          "output_type": "display_data",
          "data": {
            "image/png": "[encoded data removed]",
            "text/plain": [
              "<Figure size 432x288 with 1 Axes>"
            ]
          },
          "metadata": {
            "tags": [],
            "needs_background": "light"
          }
        }
      ]
    }
  ]
}